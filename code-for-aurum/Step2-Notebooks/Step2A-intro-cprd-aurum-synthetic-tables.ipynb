{
 "cells": [
  {
   "cell_type": "code",
   "execution_count": null,
   "metadata": {},
   "outputs": [],
   "source": [
    "# NOTEBOOK SET UP (1) - ask for credentials and db info from user\n",
    "import getpass\n",
    "my_username = input('Your username: ')\n",
    "my_password = getpass.getpass(prompt='Your password: ', stream=None)\n",
    "this_host = input('Host name: ')\n",
    "this_db = input('Database name: ')\n",
    "\n",
    "# NOTEBOOK SET UP (2) - load Jupyter magic functions & connect to db (assumes db & tables already created)\n",
    "%load_ext sql\n",
    "%sql postgresql+psycopg2://{my_username}:{my_password}@{this_host}/{this_db}"
   ]
  },
  {
   "cell_type": "code",
   "execution_count": null,
   "metadata": {},
   "outputs": [],
   "source": [
    "# NOTEBOOK SET UP (3) - ask for necessary paths\n",
    "GH_path = input(\"Local path to GH folder 'cprd-data-wrangle': \")\n",
    "txt_data_path = input(\"Local path to CPRD Aurum txt files: \")"
   ]
  },
  {
   "cell_type": "markdown",
   "metadata": {},
   "source": [
    "# Introduction to CPRD Aurum Sample Dataset"
   ]
  },
  {
   "cell_type": "markdown",
   "metadata": {},
   "source": [
    "The aim of this notebook is provide familiarity with the tables that make up the CPRD Aurum Sample (Synthetic) Dataset.\n",
    "\n",
    "This notebook assumes you have created a SQL database with the CPRD tables within. See code Step1A, Step1B and Step1C in `code-for-aurum` to see how the raw text files were transformed into tables within a SQL database.\n",
    "\n",
    "This notebook can also act as a sanity check that you can view and query all the tables in your database. \n",
    "\n",
    "\n",
    "## About the dataset\n",
    "\n",
    "The [data release notes on CPRD's website](https://www.cprd.com/synthetic-data) summarises the purpose of this synthetic dataset, instructs how to cite it, and presents summary statistics. \n",
    "\n",
    "Other than this, it points towards the [main Aurum data specifications](https://cprd.com/primary-care-data-public-health-research) for understanding the synthetic data files. This data specification includes the metadata that applies to both the synthetic and the real data (how tables are linked, what tables contain, field descriptions for each table)."
   ]
  },
  {
   "cell_type": "markdown",
   "metadata": {},
   "source": [
    "## List the raw files and their size\n"
   ]
  },
  {
   "cell_type": "code",
   "execution_count": null,
   "metadata": {},
   "outputs": [],
   "source": [
    "# List the raw files and their size\n",
    "\n",
    "import os\n",
    "import pandas as pd\n",
    "\n",
    "file_list_df = pd.DataFrame(os.listdir(txt_data_path), columns =['FileName'])\n",
    "file_list_df[\"MB\"] = \" \"\n",
    "\n",
    "for index, row in file_list_df.iterrows():\n",
    "    this_FileSize = os.path.getsize(txt_data_path + row['FileName'])\n",
    "    thisFileSize_MB = (this_FileSize / 1024) / 1024\n",
    "    file_list_df.loc[index][\"MB\"] = round(thisFileSize_MB, 2)\n",
    "print(file_list_df)\n",
    "\n",
    "File_Count = len(file_list_df.index)\n",
    "MB_Total = round(file_list_df['MB'].sum(),2)\n",
    "print('\\n' + '################################' + '\\nTotal of all ' + str(File_Count) + ' files: ' + str(MB_Total) + ' MB' + '\\n################################')\n",
    "print('\\n' + \"These are flat files stored as plain text (.txt).\" \n",
    "      + '\\n' + \"The real data will be bigger than the synthetic data (GB not MB).\" \n",
    "      + '\\n' + \"Therefore, the real data may store some text files listed here across multiple files.\")"
   ]
  },
  {
   "cell_type": "markdown",
   "metadata": {},
   "source": [
    "## List all tables in this sql database"
   ]
  },
  {
   "cell_type": "code",
   "execution_count": null,
   "metadata": {},
   "outputs": [],
   "source": [
    "%%sql \n",
    "SELECT table_name \n",
    "FROM information_schema.tables \n",
    "WHERE table_schema='public' AND table_type='BASE TABLE'"
   ]
  },
  {
   "cell_type": "markdown",
   "metadata": {},
   "source": [
    "## Preview the data from one table\n",
    "\n",
    "The notebook will prompt you for the name of the table and the number of rows you want to preview.\n",
    "\n",
    "Tip: execute the SQL cell more than once for the same table because 'ORDER BY RANDOM()' will show you different data each time.\n"
   ]
  },
  {
   "cell_type": "code",
   "execution_count": null,
   "metadata": {},
   "outputs": [],
   "source": [
    "table_name = input('Table name: ')\n",
    "n_rows = input('N rows to view: ')\n",
    "%sql SELECT * FROM {table_name} ORDER BY RANDOM() LIMIT {n_rows} ;"
   ]
  },
  {
   "cell_type": "markdown",
   "metadata": {},
   "source": [
    "## Preview the data from all tables\n",
    "\n",
    "Tip: consider if you want to run this, because it will take some minutes to run and produce a lot of outputs."
   ]
  },
  {
   "cell_type": "code",
   "execution_count": null,
   "metadata": {},
   "outputs": [],
   "source": [
    "for index, row in file_list_df.iterrows():\n",
    "    file_name = row['FileName']\n",
    "    table_name = file_name.split('.')[0]\n",
    "    table_preview = %sql SELECT * FROM {table_name} ORDER BY RANDOM() LIMIT 3 ;\n",
    "    print('\\n' + '## Table ' + str(index) + ' of ' + str(File_Count) + '\\n' + '## This table is ' + table_name)\n",
    "    display(table_preview)"
   ]
  },
  {
   "cell_type": "markdown",
   "metadata": {},
   "source": [
    "# Detailed exploration - Oct 2021 Release\n",
    "\n",
    "The code *above* should in theory work for any CPRD data release, as it does not assume anything about the table names or how the tables are linked, and asks for user input.\n",
    "\n",
    "The code *below* takes a guided and more detailed look at each table. This code will only run for you if your table names match those within the [October 2021 release](https://cprd.com/sites/default/files/2022-02/CPRD%20Aurum%20Sample%20Dataset%20Release%20Notes.pdf) of the CPRD Synthetic Aurum Dataset. The code below assumes information about table linkage that is based on this release date. \n",
    "\n"
   ]
  },
  {
   "cell_type": "markdown",
   "metadata": {},
   "source": [
    "## Size comparison: real versus synthetic \n",
    "\n",
    "Taking the real CPRD Aurum data to be the [May 2022 release](https://cprd.com/sites/default/files/2022-05/2022-05%20CPRD%20Aurum%20Release%20Notes.pdf) and the synthetic CPRD data to be [October 2021 release](https://cprd.com/sites/default/files/2022-02/CPRD%20Aurum%20Sample%20Dataset%20Release%20Notes.pdf):\n",
    "\n",
    "| Metric | Real | Synthetic | Synthetic % of Real |\n",
    "| -| - | - | - |\n",
    "| Total Acceptable Patients | 41,200,722 | 39,388 | 0.1% |\n",
    "| Total Current Patients | 13,300,067 | 13,858 | 0.1% |\n",
    "| Total Practices (current & historic) | 1,491 | 14 | 0.9% |\n",
    "\n",
    "The table shows that the real dataset has ~1,000 times more patients (total or current) and ~100 times more practices. \n",
    "\n",
    "Available follow-up time in years since 1st Jan 1995 (mean, sd, percentiles) is similar for the real and synthetic datasets. \n"
   ]
  },
  {
   "cell_type": "markdown",
   "metadata": {},
   "source": [
    "## What do the 27 files contain and how do they link togther?\n",
    "\n",
    "At the time of writing this notebook, [v3.4 of the Aurum data specifications](https://www.cprd.com/sites/default/files/2024-04/CPRD%20Aurum%20Data%20Specification%20v3.4.pdf) describes **8 main data files** and **2 data dictionaries**. The other **17 files are lookup tables** to give values for the fields within the main files. However, the descriptions of the fields within these lookup table are not included in the data specifications. \n",
    "\n",
    "See the figure on page 5 of [v3.4 of the Aurum data specifications](https://www.cprd.com/sites/default/files/2024-04/CPRD%20Aurum%20Data%20Specification%20v3.4.pdf) which shows how each table is linked with one another and via which ID:\n",
    "\n",
    "<img src=\"cprd-aurum-data-structure.png\" alt=\"cprd-aurum-data-structure\" width=\"700\" />"
   ]
  },
  {
   "cell_type": "markdown",
   "metadata": {},
   "source": [
    "### Preview the `Medical dictionary` and associated lookup table\n",
    "\n",
    "\"The Medical Dictionary contains information on all medical history observations that have been recorded in EMIS Web®. Observations are coded using a combination of SNOMED, Read and local EMIS® codes. Further information is provided in later sections of this document.\" *CPRD Aurum Data Specification Version 3.4*\n",
    "\n",
    "- Links to the `Consultation` and `Observation` data tables on 'medcodeid'\n",
    "- Links to the `EMISCodeCat` lookup table on 'emiscodecategoryid'\n"
   ]
  },
  {
   "cell_type": "code",
   "execution_count": null,
   "metadata": {
    "vscode": {
     "languageId": "sql"
    }
   },
   "outputs": [],
   "source": [
    "%%sql \n",
    "-- MedicalDictionary table\n",
    "SELECT * FROM MedicalDictionary \n",
    "ORDER BY RANDOM() \n",
    "LIMIT 5;"
   ]
  },
  {
   "cell_type": "code",
   "execution_count": null,
   "metadata": {
    "vscode": {
     "languageId": "sql"
    }
   },
   "outputs": [],
   "source": [
    "%%sql\n",
    "-- EMISCodeCat lookup table\n",
    "SELECT * FROM EMISCodeCat\n",
    "ORDER BY RANDOM() \n",
    "LIMIT 5;"
   ]
  },
  {
   "cell_type": "markdown",
   "metadata": {
    "vscode": {
     "languageId": "sql"
    }
   },
   "source": [
    "### Tip: Execute SQL cells more than once because 'ORDER BY RANDOM()' will show you different data each time"
   ]
  },
  {
   "cell_type": "markdown",
   "metadata": {},
   "source": [
    "## Preview the `Product dictionary` \n",
    "\n",
    "\"The Product Dictionary contains information on drug and appliance prescriptions recorded in EMIS Web®. This information is coded using the Dictionary of Medicines and Devices (DM+D). Further information is provided in later sections of this document.\" *CPRD Aurum Data Specification Version 3.4*\n",
    "\n",
    "- Links to the `Drug Issue` data table on 'prodcodeid'\n"
   ]
  },
  {
   "cell_type": "code",
   "execution_count": null,
   "metadata": {
    "vscode": {
     "languageId": "sql"
    }
   },
   "outputs": [],
   "source": [
    "%%sql \n",
    "-- ProductDictionary table\n",
    "SELECT * FROM ProductDictionary \n",
    "ORDER BY RANDOM() \n",
    "LIMIT 5;"
   ]
  },
  {
   "cell_type": "markdown",
   "metadata": {},
   "source": [
    "## Preview the data tables and associated lookup tables\n",
    "\n",
    "### `Patient` table \n",
    "The `Patient` table \"contains basic patient demographics and patient registration details for the patients.\" *CPRD Aurum Data Specification Version 3.4*\n",
    "\n",
    "- Links to the `Practice` data table on 'pracid'\n",
    "- Links to the `Staff` data table on 'usualgpstaffid'\n",
    "- Links to the `Consultation`, `Observation` and `Drug Issue` data tables on 'patid'\n",
    "- Links to the `Gender` lookup table on 'gender'\n",
    "- Links to the `PatientType` lookup table on 'patienttypeid'"
   ]
  },
  {
   "cell_type": "code",
   "execution_count": null,
   "metadata": {
    "vscode": {
     "languageId": "sql"
    }
   },
   "outputs": [],
   "source": [
    "%%sql\n",
    "-- Patient table \n",
    "SELECT * FROM Patient \n",
    "ORDER BY RANDOM() \n",
    "LIMIT 5;"
   ]
  },
  {
   "cell_type": "code",
   "execution_count": null,
   "metadata": {
    "vscode": {
     "languageId": "sql"
    }
   },
   "outputs": [],
   "source": [
    "%%sql\n",
    "-- Gender lookup table\n",
    "SELECT * FROM Gender;"
   ]
  },
  {
   "cell_type": "code",
   "execution_count": null,
   "metadata": {
    "vscode": {
     "languageId": "sql"
    }
   },
   "outputs": [],
   "source": [
    "%%sql\n",
    "-- PatientType lookup table\n",
    "SELECT * FROM PatientType\n",
    "ORDER BY RANDOM() \n",
    "LIMIT 5;"
   ]
  },
  {
   "cell_type": "markdown",
   "metadata": {},
   "source": [
    "### `Practice` table\n",
    "The `Practice` table \"contains details of each practice, including the practice identifier, practice region, and the last collection date.\" *CPRD Aurum Data Specification Version 3.4*\n",
    "\n",
    "- Links to the `Patient` data table on 'pracid'\n",
    "- Links to the `Region` lookup table on 'region'\n",
    "\n"
   ]
  },
  {
   "cell_type": "code",
   "execution_count": null,
   "metadata": {
    "vscode": {
     "languageId": "sql"
    }
   },
   "outputs": [],
   "source": [
    "%%sql\n",
    "-- Practice table\n",
    "SELECT * FROM Practice\n",
    "ORDER BY RANDOM() \n",
    "LIMIT 5;"
   ]
  },
  {
   "cell_type": "code",
   "execution_count": null,
   "metadata": {
    "vscode": {
     "languageId": "sql"
    }
   },
   "outputs": [],
   "source": [
    "%%sql\n",
    "-- Region lookup table\n",
    "SELECT * FROM Region;"
   ]
  },
  {
   "cell_type": "markdown",
   "metadata": {},
   "source": [
    "### `Staff` table\n",
    "The `Staff` table contains practice staff details for each staff member, including job category. *CPRD Aurum Data Specification Version 3.4*\n",
    "- Links to the `Patient` data table on 'staffid'\n",
    "- Links to the `Practice` data table on the 'pracid' \n",
    "- Links to the `JobCat` lookup table on 'jobcatid'"
   ]
  },
  {
   "cell_type": "code",
   "execution_count": null,
   "metadata": {
    "vscode": {
     "languageId": "sql"
    }
   },
   "outputs": [],
   "source": [
    "%%sql\n",
    "-- Staff table \n",
    "SELECT * FROM Staff \n",
    "ORDER BY RANDOM() \n",
    "LIMIT 5;"
   ]
  },
  {
   "cell_type": "code",
   "execution_count": null,
   "metadata": {
    "vscode": {
     "languageId": "sql"
    }
   },
   "outputs": [],
   "source": [
    "%%sql\n",
    "-- JobCat lookup table\n",
    "SELECT * FROM JobCat\n",
    "ORDER BY RANDOM() \n",
    "LIMIT 5;"
   ]
  },
  {
   "cell_type": "markdown",
   "metadata": {},
   "source": [
    "### `Consultation` table\n",
    "The `Consultation` table \"contains information relating to the type of consultation as entered by the GP (e.g. telephone, home visit, practice visit). Some consultations are linked to observations that occur during the consultation via the consultation identifier (consid).\" *CPRD Aurum Data Specification Version 3.4*\n",
    "- Links to the `Patient` data table on 'patid'\n",
    "- Links to the `Practice` data table on 'pracid'\n",
    "- Links to the `Staff` data table on 'staffid' \n",
    "- Links to the `Observation` data table on 'consid'\n",
    "- Links to the `MedicaDictionary` table on 'consmedcodeid'\n",
    "- Links to the `ConsSource` look up table on 'conssourceid'"
   ]
  },
  {
   "cell_type": "code",
   "execution_count": null,
   "metadata": {
    "vscode": {
     "languageId": "sql"
    }
   },
   "outputs": [],
   "source": [
    "%%sql\n",
    "-- Consultation table\n",
    "SELECT * FROM Consultation \n",
    "ORDER BY RANDOM() \n",
    "LIMIT 5;"
   ]
  },
  {
   "cell_type": "code",
   "execution_count": null,
   "metadata": {
    "vscode": {
     "languageId": "sql"
    }
   },
   "outputs": [],
   "source": [
    "%%sql\n",
    "-- ConsSource lookup table\n",
    "SELECT * FROM ConsSource\n",
    "ORDER BY RANDOM() \n",
    "LIMIT 5;"
   ]
  },
  {
   "cell_type": "markdown",
   "metadata": {},
   "source": [
    "### `Observation` table\n",
    "The `Observation` table \"contains the medical history data entered on the GP system including symptoms, clinical measurements, laboratory test results, and diagnoses, as well as demographic information recorded as a clinical code (e.g. patient ethnicity). Observations that occur during a consultation can be linked via the consultation identifier. CPRD Aurum data are structured in a long format (multiple rows per subject), and observations can be linked to a parent observation. For example, measurements of systolic and diastolic blood pressure will be grouped together via a parent observation for blood pressure measurement.\" *CPRD Aurum Data Specification Version 3.4*\n",
    "- Links to the `Patient` data table on 'patid'\n",
    "- Links to the `Practice` data table on 'pracid'\n",
    "- Links to the `Staff` data table on 'staffid'\n",
    "- Links to the `Consultation` data table on 'consid'\n",
    "- Links to the `Problem` and `Referral` data tables on 'obsid'\n",
    "- Links to the `MedicaDictionary` table on 'medcodeid'\n",
    "- Links to the `NumUnit` lookup table on 'numunitid'\n",
    "- Links to the `ObsType` lookup table on 'obstypeid'\n",
    "- Links to itself on 'parentobsid' and 'probobsid'\n"
   ]
  },
  {
   "cell_type": "code",
   "execution_count": null,
   "metadata": {
    "vscode": {
     "languageId": "sql"
    }
   },
   "outputs": [],
   "source": [
    "%%sql\n",
    "-- Observation table \n",
    "SELECT * FROM Observation\n",
    "WHERE value IS NOT NULL AND numunitid IS NOT NULL AND numrangelow IS NOT NULL AND numrangehigh IS NOT NULL AND probobsid != 'None'\n",
    "ORDER BY RANDOM() \n",
    "LIMIT 5;"
   ]
  },
  {
   "cell_type": "code",
   "execution_count": null,
   "metadata": {
    "vscode": {
     "languageId": "sql"
    }
   },
   "outputs": [],
   "source": [
    "%%sql\n",
    "-- NumUnit lookup table\n",
    "SELECT * FROM NumUnit\n",
    "ORDER BY RANDOM() \n",
    "LIMIT 5;\n"
   ]
  },
  {
   "cell_type": "code",
   "execution_count": null,
   "metadata": {
    "vscode": {
     "languageId": "sql"
    }
   },
   "outputs": [],
   "source": [
    "%%sql\n",
    "-- ObsType lookup table\n",
    "SELECT * FROM ObsType;"
   ]
  },
  {
   "cell_type": "markdown",
   "metadata": {},
   "source": [
    "### `Referral` table\n",
    "The `Referral` table \"contains referral details recorded on the GP system. Data in the referral file are linked to the observation file and contain ‘add-on’ data for referral-type observations. These files contain information involving both inbound and outbound patient referrals to or from external care centres (normally to secondary care locations such as hospitals for inpatient or outpatient care). To obtain the full referral record (including reason for the referral and date), referrals should be linked to the Observation file using the observation identifier (obsid).\" *CPRD Aurum Data Specification Version 3.4*\n",
    "- Links to the `Patient` data table on 'patid'\n",
    "- Links to the `Practice` data table on 'pracid'\n",
    "- Links to the `Observation` data table on 'obsid'\n",
    "- Links to `RefServiceType` lookup table on 'refservicetypeid'\n",
    "- Links to `RefUrgency` lookup table on 'refurgencyid'\n",
    "- Links to `OrgType` lookup table on 'refsourceorgid'\n",
    "- Links to `RefMode` lookup table on 'refmodeid'"
   ]
  },
  {
   "cell_type": "code",
   "execution_count": null,
   "metadata": {
    "vscode": {
     "languageId": "sql"
    }
   },
   "outputs": [],
   "source": [
    "%%sql\n",
    "-- Referral table\n",
    "SELECT * FROM Referral\n",
    "WHERE reftargetorgid IS NOT NULL AND refurgencyid IS NOT NULL AND refservicetypeid IS NOT NULL AND refmodeid IS NOT NULL \n",
    "ORDER BY RANDOM() \n",
    "LIMIT 5;"
   ]
  },
  {
   "cell_type": "code",
   "execution_count": null,
   "metadata": {
    "vscode": {
     "languageId": "sql"
    }
   },
   "outputs": [],
   "source": [
    "%%sql\n",
    "-- RefServiceType lookup table\n",
    "SELECT * FROM RefServiceType;"
   ]
  },
  {
   "cell_type": "code",
   "execution_count": null,
   "metadata": {
    "vscode": {
     "languageId": "sql"
    }
   },
   "outputs": [],
   "source": [
    "%%sql\n",
    "-- RefUrgency lookup table\n",
    "SELECT * FROM RefUrgency;"
   ]
  },
  {
   "cell_type": "code",
   "execution_count": null,
   "metadata": {
    "vscode": {
     "languageId": "sql"
    }
   },
   "outputs": [],
   "source": [
    "%%sql\n",
    "-- OrgType lookup table\n",
    "SELECT * FROM OrgType LIMIT 3;"
   ]
  },
  {
   "cell_type": "code",
   "execution_count": null,
   "metadata": {
    "vscode": {
     "languageId": "sql"
    }
   },
   "outputs": [],
   "source": [
    "%%sql\n",
    "-- RefMode lookup table\n",
    "SELECT * FROM RefMode;"
   ]
  },
  {
   "cell_type": "markdown",
   "metadata": {},
   "source": [
    "### `Problem` table\n",
    "The `Problem` table \"contains details of the patient’s medical history that have been defined by the GP as a ‘problem’. Data in the problem file are linked to the observation file and contain ‘add-on’ data for problem-type observations. Information on identifying associated problems, the significance of the problem and its expected duration can be found in this table. GPs may use ‘problems’ to manage chronic conditions as it would allow them to group clinical events (including drug prescriptions, measurements, symptom recording) by problem rather than chronologically. To obtain the full problem record (including the clinical code for the problem), problems should be linked to the Observation file using the observation identifier (obsid).\" *CPRD Aurum Data Specification Version 3.4*\n",
    "- Links to the `Patient` data table on 'patid'\n",
    "- Links to the `Practice` data table on 'pracid'\n",
    "- Links to the `Staff` data table on 'lastrevstaffid'\n",
    "- Links to the `Observation` data table on 'obsid' and 'parentprobobsid'\n",
    "- Links to the `ParentProbRel` lookup table on 'parentprobrelid'\n",
    "- Links to the `ProbStatus` lookup table on 'probstatusid'\n",
    "- Links to the `Sign` lookup table on 'signid'"
   ]
  },
  {
   "cell_type": "code",
   "execution_count": null,
   "metadata": {
    "vscode": {
     "languageId": "sql"
    }
   },
   "outputs": [],
   "source": [
    "%%sql\n",
    "--Problem table \n",
    "SELECT * FROM Problem\n",
    "WHERE lastrevdate IS NOT NULL AND lastrevstaffid IS NOT NULL AND parentprobrelid IS NOT NULL AND probstatusid IS NOT NULL AND signid IS NOT NULL\n",
    "ORDER BY RANDOM() \n",
    "LIMIT 5;"
   ]
  },
  {
   "cell_type": "code",
   "execution_count": null,
   "metadata": {
    "vscode": {
     "languageId": "sql"
    }
   },
   "outputs": [],
   "source": [
    "%%sql\n",
    "-- ParentProbRel lookup table\n",
    "SELECT * FROM ParentProbRel;"
   ]
  },
  {
   "cell_type": "code",
   "execution_count": null,
   "metadata": {
    "vscode": {
     "languageId": "sql"
    }
   },
   "outputs": [],
   "source": [
    "%%sql\n",
    "-- ProbStatus lookup table\n",
    "SELECT * FROM ProbStatus;"
   ]
  },
  {
   "cell_type": "code",
   "execution_count": null,
   "metadata": {
    "vscode": {
     "languageId": "sql"
    }
   },
   "outputs": [],
   "source": [
    "%%sql\n",
    "-- Sign lookup table\n",
    "SELECT * FROM Sign;"
   ]
  },
  {
   "cell_type": "markdown",
   "metadata": {},
   "source": [
    "### `DrugIssue` table\n",
    "The `DrugIssue` table \"contains details of all prescriptions on the GP system. This file contains data relating to all prescriptions (for drugs and appliances) issued by the GP. Some prescriptions are linked to problem-type observations via the Observation file, using the observation identifier (obsid).\" *CPRD Aurum Data Specification Version 3.4*\n",
    "- Links to the `Patient` data table on 'patid'\n",
    "- Links to the `Practice` data table on 'pracid'\n",
    "- Links to the `Staff` data table on 'staffid'\n",
    "- Links to `Observation` and `Problem` data tables on 'probobsid'\n",
    "- Links to `ProductDictionary` data dictionary table on 'prodcodeid'\n",
    "- Links to the `Common_dosages` lookup table on 'dosageid'\n",
    "- Links to the `QuantUnit` lookup table on 'quantunitid'"
   ]
  },
  {
   "cell_type": "code",
   "execution_count": null,
   "metadata": {
    "vscode": {
     "languageId": "sql"
    }
   },
   "outputs": [],
   "source": [
    "%%sql\n",
    "-- DrugIssue table \n",
    "SELECT * FROM DrugIssue\n",
    "ORDER BY RANDOM() \n",
    "LIMIT 5;"
   ]
  },
  {
   "cell_type": "code",
   "execution_count": null,
   "metadata": {
    "vscode": {
     "languageId": "sql"
    }
   },
   "outputs": [],
   "source": [
    "%%sql\n",
    "-- Common_dosages lookup table\n",
    "SELECT * FROM Common_dosages\n",
    "ORDER BY RANDOM() \n",
    "LIMIT 5;"
   ]
  },
  {
   "cell_type": "code",
   "execution_count": null,
   "metadata": {
    "vscode": {
     "languageId": "sql"
    }
   },
   "outputs": [],
   "source": [
    "%%sql\n",
    "-- QuantUnit lookup table\n",
    "SELECT * FROM QuantUnit\n",
    "ORDER BY RANDOM() \n",
    "LIMIT 5;"
   ]
  }
 ],
 "metadata": {
  "kernelspec": {
   "display_name": "py38_default",
   "language": "python",
   "name": "python3"
  },
  "language_info": {
   "codemirror_mode": {
    "name": "ipython",
    "version": 3
   },
   "file_extension": ".py",
   "mimetype": "text/x-python",
   "name": "python",
   "nbconvert_exporter": "python",
   "pygments_lexer": "ipython3",
   "version": "3.8.16"
  },
  "orig_nbformat": 4
 },
 "nbformat": 4,
 "nbformat_minor": 2
}
