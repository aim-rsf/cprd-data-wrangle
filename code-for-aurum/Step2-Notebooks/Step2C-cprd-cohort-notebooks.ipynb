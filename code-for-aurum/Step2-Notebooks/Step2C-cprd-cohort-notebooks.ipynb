{
 "cells": [
  {
   "cell_type": "markdown",
   "metadata": {},
   "source": [
    "## CPRD Cohort Criteria Examples Workbook"
   ]
  },
  {
   "cell_type": "markdown",
   "metadata": {},
   "source": [
    "This workbook was created to replicate the example criteria given in CPRD Aurum FAQs v2.4 (see their [website](https://www.cprd.com/primary-care-data-public-health-research)) under the section *\"How will I know if the CPRD Aurum data are suitable for my research needs?\".* When we include text within quotation marks in the sections below, we are quoting from CPRD Aurum FAQs v2.4. \n",
    "\n",
    "We are using these examples to increase our understanding of the tables, how they all relate to eachother and how to write queries for example criteria. These types of queries would allow a research team to filter the CPRD data, to create a sample cohort that matches their research questions e.g. select patients within a certain age range and on a specific medication. "
   ]
  },
  {
   "cell_type": "markdown",
   "metadata": {},
   "source": [
    "----\n",
    "Preliminary setup code:"
   ]
  },
  {
   "cell_type": "code",
   "execution_count": null,
   "metadata": {},
   "outputs": [],
   "source": [
    "# NOTEBOOK SET UP (1) - ask for credentials and db info from user\n",
    "import getpass\n",
    "my_username = input('Your username: ')\n",
    "my_password = getpass.getpass(prompt='Your password: ', stream=None)\n",
    "this_host = input('Host name: ')\n",
    "this_db = input('Database name: ')\n",
    "\n",
    "# NOTEBOOK SET UP (2) - load Jupyter magic functions & connect to db (assumes db & tables already created)\n",
    "%load_ext sql\n",
    "%sql postgresql+psycopg2://{my_username}:{my_password}@{this_host}/{this_db}"
   ]
  },
  {
   "cell_type": "markdown",
   "metadata": {},
   "source": [
    "Below we've written queries for each example criterion step-by-step, hopefully making the complete query easier to understand."
   ]
  },
  {
   "cell_type": "markdown",
   "metadata": {},
   "source": [
    "#### Part 1. Counts based on one criterion:\n",
    "\n",
    "*\"The total number of patients in CPRD GOLD or CPRD Aurum with a first ever prescription for\n",
    "metformin recorded during 01/01/2004 - 31/12/2015, stratified by calendar year\"*"
   ]
  },
  {
   "cell_type": "markdown",
   "metadata": {},
   "source": [
    "a. Find all patients on metformin prescription"
   ]
  },
  {
   "cell_type": "code",
   "execution_count": null,
   "metadata": {
    "vscode": {
     "languageId": "sql"
    }
   },
   "outputs": [],
   "source": [
    "%%sql\n",
    "-- FILTERING all terms relating to metformin from product dictionary into a new table called A_MetforminProdID\n",
    "DROP TABLE IF EXISTS  A_MetforminProdID;\n",
    "SELECT * INTO A_MetforminProdID FROM ProductDictionary \n",
    "WHERE (\n",
    "          UPPER(DrugSubstanceName) LIKE '%METFORMIN%' -- input terms to include here\n",
    "       );\n",
    "       \n",
    "-- Drug issue table contains data relating to all drug prescriptions issued by the GP, \n",
    "-- so joining this table to the filtered product dictionary, we'll get all metformin related prescriptions\n",
    "SELECT DI.*, '<----->' AS BOUNDARY, MP.* FROM DrugIssue DI\n",
    "INNER JOIN A_MetforminProdID MP ON MP.prodcodeID = DI.prodcodeID\n",
    "LIMIT 2;"
   ]
  },
  {
   "cell_type": "markdown",
   "metadata": {
    "vscode": {
     "languageId": "sql"
    }
   },
   "source": [
    "b. Now we have a way of finding all patients with metformin prescriptions issued, we want to find the very first metformin prescription issued, grouped by patient: \n"
   ]
  },
  {
   "cell_type": "code",
   "execution_count": null,
   "metadata": {
    "vscode": {
     "languageId": "sql"
    }
   },
   "outputs": [],
   "source": [
    "%%sql\n",
    "-- Grouping metformin prescription for each patient\n",
    "SELECT patid, issuedate FROM DrugIssue DI\n",
    "INNER JOIN A_MetforminProdID MP ON MP.prodcodeID = DI.prodcodeID\n",
    "GROUP BY patid, issuedate\n",
    "ORDER BY issuedate ASC\n",
    "LIMIT 2;"
   ]
  },
  {
   "cell_type": "code",
   "execution_count": null,
   "metadata": {
    "vscode": {
     "languageId": "sql"
    }
   },
   "outputs": [],
   "source": [
    "%%sql\n",
    "-- Insert above grouping into a new table called A_MetforminPatients:\n",
    "DROP TABLE IF EXISTS A_MetforminPatients;\n",
    "SELECT patid, issuedate INTO A_MetforminPatients \n",
    "FROM DrugIssue DI\n",
    "INNER JOIN A_MetforminProdID MP ON MP.prodcodeID = DI.prodcodeID\n",
    "--WHERE patid = 'XXXXXXXX' -- to look at single patient sample\n",
    "GROUP BY patid, issuedate\n",
    "ORDER BY issuedate ASC\n",
    "\n",
    "-- Ordering to find first metformin prescription for each patient\n",
    ";WITH added_row_number AS (\n",
    "  SELECT\n",
    "    *,\n",
    "    ROW_NUMBER() OVER(PARTITION BY patid ORDER BY issuedate ASC) AS row_number\n",
    "  FROM A_MetforminPatients\n",
    ")\n",
    "SELECT\n",
    "  *\n",
    "FROM added_row_number\n",
    "--WHERE row_number = 1 --AND patid = 'XXXXXXXX' -- single patient sample\n",
    "LIMIT 20;"
   ]
  },
  {
   "cell_type": "markdown",
   "metadata": {
    "vscode": {
     "languageId": "sql"
    }
   },
   "source": [
    "c. We have the first metformin prescriptions issued for each patient, so now we want to filter out the those within the date interval given: 01/01/2004 - 31/12/2015 \n"
   ]
  },
  {
   "cell_type": "code",
   "execution_count": null,
   "metadata": {
    "vscode": {
     "languageId": "sql"
    }
   },
   "outputs": [],
   "source": [
    "%%sql\n",
    "WITH added_row_number AS (\n",
    "  SELECT\n",
    "    *,\n",
    "    ROW_NUMBER() OVER(PARTITION BY patid ORDER BY issuedate ASC) AS row_number\n",
    "  FROM A_MetforminPatients\n",
    ")\n",
    "SELECT\n",
    "  *\n",
    "FROM added_row_number\n",
    "WHERE row_number = 1 --AND patid = 'XXXXXXXXXX'\n",
    "AND issuedate BETWEEN '2004-01-01' AND '2015-12-31' \n",
    "LIMIT 3;"
   ]
  },
  {
   "cell_type": "markdown",
   "metadata": {},
   "source": [
    "d. The last condition is to stratify by calendar year, which we'll do below:\n"
   ]
  },
  {
   "cell_type": "code",
   "execution_count": null,
   "metadata": {
    "vscode": {
     "languageId": "sql"
    }
   },
   "outputs": [],
   "source": [
    "%%sql\n",
    "-- 4. Group by calendar year\n",
    "WITH added_row_number AS (\n",
    "  SELECT\n",
    "    *,\n",
    "    ROW_NUMBER() OVER(PARTITION BY patid ORDER BY issuedate ASC) AS row_number\n",
    "  FROM A_MetforminPatients\n",
    ")\n",
    "SELECT\n",
    "  DATE_PART('YEAR',issuedate), count(patid)--, issuedate\n",
    "FROM added_row_number\n",
    "WHERE row_number = 1 --AND patid = 'XXXXXXXXXX'\n",
    "AND issuedate BETWEEN '2004-01-01' AND '2015-12-31' \n",
    "GROUP BY DATE_PART('YEAR',issuedate)--,patid, issuedate\n",
    "LIMIT 8;\n"
   ]
  },
  {
   "cell_type": "markdown",
   "metadata": {},
   "source": [
    "The above makes use of the product dictionary, and a sample string ('metformin') to filter out relevant drugs. You may however already have a list of drugs that you'd like to load in directly and use to filter out patients, for which we'll have an example below."
   ]
  },
  {
   "cell_type": "markdown",
   "metadata": {},
   "source": [
    "----"
   ]
  },
  {
   "cell_type": "markdown",
   "metadata": {},
   "source": [
    "#### Part 2. Counts based on two criteria:\n",
    "\n",
    "<i>\n",
    "\n",
    "1) \"Total number of patients with a medical diagnosis of Type 2 diabetes mellitus recorded in CPRD GOLD or HES APC \n",
    "on or before 31/12/2005\" \n",
    "OR\n",
    "2) \"Prescriptions for anti-diabetic medication in CPRD GOLD (note - provided in one code list) \n",
    "on or before 31/12/2005. Patients must have at least 12 months of prior registration before their earliest event date.\"</i>\n",
    "\n",
    "Rephrased criteria: \n",
    "\n",
    "1) Total number of patients with a medical diagnosis of Type 2 diabetes mellitus recorded in CPRD Aurum on or before 31/12/2005 \n",
    "OR\n",
    "2) Prescriptions for anti-diabetic medication in CPRD Aurum (note - provided in one code list) on or before 31/12/2005. \n",
    "Patients must have at least 12 months of prior registration before their earliest event date.\n",
    "\n",
    "We'll split up both criteria (1 & 2) and start with the first one, in segments, below:\n",
    "\n"
   ]
  },
  {
   "cell_type": "markdown",
   "metadata": {},
   "source": [
    "1a. Load in pre-existing code list for Type2Diabetes, CPRD Aurum, from OPTIMAL's THINK repo (or any other of your own choice)\n",
    "\n",
    "<i>link here: https://github.com/THINKINGGroup/phenotypes/tree/main/Medical%20conditions/Type2Diabetes_11_3_21_birm_cam</i>\n"
   ]
  },
  {
   "cell_type": "code",
   "execution_count": null,
   "metadata": {},
   "outputs": [],
   "source": [
    "# Specify file path for your downloaded code list file (for example: User/Docs/codelists/type2diabetes.csv)\n",
    "code_list_dir = input('Enter path for type 2 diabetes code list file')"
   ]
  },
  {
   "cell_type": "code",
   "execution_count": null,
   "metadata": {
    "vscode": {
     "languageId": "sql"
    }
   },
   "outputs": [],
   "source": [
    "%%sql\n",
    "-- Create a new table to load list into (make sure this matches the headers in your code list file!)\n",
    "DROP TABLE IF EXISTS A_Type2Diabetes_CodeLists;\n",
    "CREATE TABLE A_Type2Diabetes_CodeLists\n",
    "(MEDICAL_CODE_ID TEXT,DESCRIPTION TEXT,READ_CODE TEXT,SNOMED_CT_CODE TEXT,DATASOURCE TEXT);"
   ]
  },
  {
   "cell_type": "code",
   "execution_count": null,
   "metadata": {
    "vscode": {
     "languageId": "sql"
    }
   },
   "outputs": [],
   "source": [
    "%%sql\n",
    "-- Loading in code list from directory specified above\n",
    "DO $$ \n",
    "DECLARE\n",
    "    filepath TEXT := :code_list_dir;\n",
    "BEGIN\n",
    "    EXECUTE 'COPY A_Type2Diabetes_CodeLists (MEDICAL_CODE_ID,DESCRIPTION,READ_CODE,SNOMED_CT_CODE,DATASOURCE) FROM ''' || filepath || ''' WITH (FORMAT ''csv'', DELIMITER '','', HEADER, QUOTE ''\"'');';\n",
    "END $$;"
   ]
  },
  {
   "cell_type": "code",
   "execution_count": null,
   "metadata": {
    "vscode": {
     "languageId": "sql"
    }
   },
   "outputs": [],
   "source": [
    "%%sql\n",
    "-- View table contents \n",
    "SELECT * FROM A_Type2Diabetes_CodeLists LIMIT 2;"
   ]
  },
  {
   "cell_type": "code",
   "execution_count": null,
   "metadata": {
    "vscode": {
     "languageId": "sql"
    }
   },
   "outputs": [],
   "source": [
    "%%sql\n",
    "-- Use code list to filter medcodeids in medical dictionary for Type2Diabetes\n",
    "SELECT * FROM medicaldictionary\n",
    "WHERE medcodeid IN (SELECT medical_code_id FROM A_Type2Diabetes_CodeLists)\n",
    "LIMIT 2;"
   ]
  },
  {
   "cell_type": "markdown",
   "metadata": {},
   "source": [
    "1b. Find all type 2 diabetes related observations"
   ]
  },
  {
   "cell_type": "code",
   "execution_count": null,
   "metadata": {
    "vscode": {
     "languageId": "sql"
    }
   },
   "outputs": [],
   "source": [
    "%%sql\n",
    "-- View patients with type2db medcodeid in observation table\n",
    "SELECT * FROM observation \n",
    "WHERE medcodeid IN (SELECT medical_code_id FROM A_Type2Diabetes_CodeLists)\n",
    "LIMIT 2;"
   ]
  },
  {
   "cell_type": "code",
   "execution_count": null,
   "metadata": {
    "vscode": {
     "languageId": "sql"
    }
   },
   "outputs": [],
   "source": [
    "%%sql\n",
    "--Total observations related to type2db\n",
    "(SELECT 'Total obs related to typ2db' AS Totals, count(*) FROM observation\n",
    "WHERE medcodeid IN (SELECT medical_code_id FROM A_Type2Diabetes_CodeLists))\n",
    "UNION\n",
    "--  Total distinct patients with observations related to/medical diagnosis of Type 2 diabetes mellitus \n",
    "(SELECT 'Total distinct patients with obs related to typ2db', count(DISTINCT patid) FROM observation\n",
    "WHERE medcodeid IN (SELECT medical_code_id FROM A_Type2Diabetes_CodeLists));"
   ]
  },
  {
   "cell_type": "markdown",
   "metadata": {},
   "source": [
    "1c. Medical diagnosis (inferred by a medcodeid occurence) recorded on or before 31/12/2005:\n",
    "\n",
    "<i> Note to check assumptions of methodology below: we might want to join the problem table and consider the parent problem label - we did it manually for now. </i>\n"
   ]
  },
  {
   "cell_type": "code",
   "execution_count": null,
   "metadata": {
    "vscode": {
     "languageId": "sql"
    }
   },
   "outputs": [],
   "source": [
    "%%sql \n",
    "-- Find all type2d observations grouped (least to most recent, ascending) for each patient\n",
    "SELECT patid,obsdate,medcodeid,t.description FROM observation o \n",
    "INNER JOIN A_Type2Diabetes_CodeLists t ON t.medical_code_id = o.medcodeid \n",
    "WHERE medcodeid IN (SELECT medical_code_id FROM A_Type2Diabetes_CodeLists)\n",
    "GROUP BY patid,obsdate,medcodeid, t.description\n",
    "ORDER BY patid,obsdate ASC\n",
    "LIMIT 5;"
   ]
  },
  {
   "cell_type": "code",
   "execution_count": null,
   "metadata": {
    "vscode": {
     "languageId": "sql"
    }
   },
   "outputs": [],
   "source": [
    "%%sql \n",
    "-- Find earliest observation and add constraint for observation date\n",
    "WITH patid_ranked AS (\n",
    "SELECT *, \n",
    "ROW_NUMBER() OVER(PARTITION BY patid ORDER BY obsdate ASC) AS row_number\n",
    "FROM observation WHERE medcodeid IN (SELECT medical_code_id FROM A_Type2Diabetes_CodeLists)\n",
    ")\n",
    "SELECT * FROM patid_ranked\n",
    "WHERE row_number = 1 -- most recent observation when ordered by obsdate ascending\n",
    "AND obsdate <= '2005-12-31' -- add date constraint for the first observation \n",
    "LIMIT 3; \n"
   ]
  },
  {
   "cell_type": "markdown",
   "metadata": {},
   "source": [
    "Now we'll look at the second criteria:\n",
    "\n",
    "2. Prescriptions for anti-diabetic medication in CPRD Aurum (note - provided in one code list) on or before 31/12/2005.  \n",
    "Patients must have at least 12 months of prior registration before their earliest event date.\n",
    "\n",
    "<i>Edit: date modified from 31/12/2005 to 31/12/2015 as this was a more suitable range for the synthetic Aurum dataset. If you are running this notebook on the real Aurum dataset, try the original date threshold.</i> "
   ]
  },
  {
   "cell_type": "markdown",
   "metadata": {},
   "source": [
    "2a. Load in multiple code lists from OPTIMAL's THINK repo (or any resource of your own preference) that relate to anti-diabetic medications.\n",
    "\n",
    "<i>links here: \n",
    "- https://github.com/THINKINGGroup/phenotypes/blob/main/Drug%20Codes\n",
    "- https://phenotypes.healthdatagateway.org/phenotypes/</i>\n"
   ]
  },
  {
   "cell_type": "code",
   "execution_count": null,
   "metadata": {
    "vscode": {
     "languageId": "sql"
    }
   },
   "outputs": [],
   "source": [
    "%%sql \n",
    "-- Create a new filename table, as there are multiple antidiabetic drug files\n",
    "DROP TABLE IF EXISTS A_AntiDiabeticDrug_CodeList_Name;\n",
    "CREATE TABLE A_AntiDiabeticDrug_CodeList_Name(FILEID INT GENERATED BY DEFAULT AS IDENTITY, DRUGFILENAME TEXT);\n",
    "SELECT * FROM A_AntiDiabeticDrug_CodeList_Name;"
   ]
  },
  {
   "cell_type": "code",
   "execution_count": null,
   "metadata": {},
   "outputs": [],
   "source": [
    "import os\n",
    "## Change directory here to the folder containing the code lists:\n",
    "directory_path = input('Specify directory for folder containing the diabetic medication code lists')\n",
    "\n",
    "# Iterate over all the code lists in the specified directory\n",
    "for filename in os.listdir(directory_path):\n",
    "    file_path = os.path.join(directory_path, filename)\n",
    "    if os.path.isfile(file_path):\n",
    "        # Insert filenames into the table\n",
    "        %sql INSERT INTO A_AntiDiabeticDrug_CodeList_Name (DRUGFILENAME) VALUES (:filename)\n"
   ]
  },
  {
   "cell_type": "code",
   "execution_count": null,
   "metadata": {
    "vscode": {
     "languageId": "sql"
    }
   },
   "outputs": [],
   "source": [
    "%%sql\n",
    "-- Create a new antidiabetic medication code list table (note this should match your code list file headers):\n",
    "DROP TABLE IF EXISTS A_AntiDiabeticDrug_CodeLists;\n",
    "CREATE TABLE A_AntiDiabeticDrug_CodeLists\n",
    "(DRUG_CODE_ID TEXT,DESCRIPTION TEXT,BNF1 TEXT,BNF2 TEXT,BNF3 TEXT,ATC TEXT,DATABASE TEXT);"
   ]
  },
  {
   "cell_type": "markdown",
   "metadata": {},
   "source": [
    "Create function to load in data below, which we will then use to loop over multiple code lists\n",
    "\n",
    "<i>*You will need to change the values according to your own code list file contents </i>\n"
   ]
  },
  {
   "cell_type": "code",
   "execution_count": null,
   "metadata": {
    "vscode": {
     "languageId": "sql"
    }
   },
   "outputs": [],
   "source": [
    "%%sql\n",
    "-- Function to load code lists into table in a LOOP\n",
    "CREATE OR REPLACE FUNCTION A_loaddata(filepathname TEXT)\n",
    "  RETURNS void\n",
    "  LANGUAGE plpgsql AS\n",
    "$func$\n",
    "BEGIN\n",
    "   EXECUTE format ('\n",
    "   COPY A_AntiDiabeticDrug_CodeLists(DRUG_CODE_ID,DESCRIPTION,BNF1,BNF2,BNF3,ATC,DATABASE)  -- more columns\n",
    "   FROM %L (FORMAT CSV, HEADER)'  -- modern syntax\n",
    "           -- WITH CSV HEADER'    -- tolerated legacy syntax\n",
    "   , $1);  -- pass 1st function parameter (filepathname) to format() \n",
    "END\n",
    "$func$;"
   ]
  },
  {
   "cell_type": "markdown",
   "metadata": {},
   "source": [
    "Now, loop over drug list filenames and apply loaddata() function:\n"
   ]
  },
  {
   "cell_type": "code",
   "execution_count": null,
   "metadata": {
    "vscode": {
     "languageId": "sql"
    }
   },
   "outputs": [],
   "source": [
    "%%sql \n",
    "-- SELECT * FROM A_AntiDiabeticDrug_CodeList_Name; -- contains filenames\n",
    "-- SELECT * FROM A_AntiDiabeticDrug_CodeLists; -- table to insert into\n",
    "\n",
    "--Loop loaddata() function over drug list filenames to insert into table:\n",
    "do $$\n",
    "DECLARE fileName VARCHAR;\n",
    "BEGIN\n",
    "FOR fileName IN \n",
    "SELECT drugfilename FROM A_AntiDiabeticDrug_CodeList_Name\n",
    "LOOP\n",
    "    PERFORM A_loaddata(\n",
    "                    :directory_path || '/' || fileName\n",
    "                    );\n",
    "END LOOP;\n",
    "END;\n",
    "$$;"
   ]
  },
  {
   "cell_type": "code",
   "execution_count": null,
   "metadata": {
    "vscode": {
     "languageId": "sql"
    }
   },
   "outputs": [],
   "source": [
    "%%sql \n",
    "--Check table for loaded data:\n",
    "SELECT * FROM A_AntiDiabeticDrug_CodeLists\n",
    "LIMIT 2;"
   ]
  },
  {
   "cell_type": "markdown",
   "metadata": {},
   "source": [
    "2b. Now we want to use the antidiabetic code lists table to filter out the relevant drugs from dictionary (or we can use code list table directly, since it already has cprd aurum identifiers if it's a complete match)\n"
   ]
  },
  {
   "cell_type": "code",
   "execution_count": null,
   "metadata": {
    "vscode": {
     "languageId": "sql"
    }
   },
   "outputs": [],
   "source": [
    "%%sql \n",
    "-- a. Use code list to filter prodcodeids in product dictionary for anti-diabetic medication\n",
    "SELECT * FROM productdictionary \n",
    "WHERE PRODCODEID IN (SELECT drug_code_id FROM A_AntiDiabeticDrug_CodeLists)\n",
    "LIMIT 2;"
   ]
  },
  {
   "cell_type": "code",
   "execution_count": null,
   "metadata": {
    "vscode": {
     "languageId": "sql"
    }
   },
   "outputs": [],
   "source": [
    "%%sql \n",
    "-- You can also check if there's a count match between all the codes in your code list vs. codes in the product dictionary table as a sanity check\n",
    "(SELECT COUNT(DISTINCT drug_code_id) FROM A_AntiDiabeticDrug_CodeLists) --\n",
    "UNION ALL\n",
    "(SELECT count(*) FROM productdictionary \n",
    "WHERE PRODCODEID IN (SELECT drug_code_id FROM A_AntiDiabeticDrug_CodeLists)\n",
    ");"
   ]
  },
  {
   "cell_type": "markdown",
   "metadata": {},
   "source": [
    "2c. Find patient observations relating to antidiabetic drugs"
   ]
  },
  {
   "cell_type": "code",
   "execution_count": null,
   "metadata": {
    "vscode": {
     "languageId": "sql"
    }
   },
   "outputs": [],
   "source": [
    "%%sql\n",
    "SELECT DI.*, ADC.* FROM drugissue DI \n",
    "INNER JOIN A_AntiDiabeticDrug_CodeLists ADC ON DI.prodcodeid = ADC.drug_code_id\n",
    "WHERE DI.issuedate <= '2015-12-31'\n",
    "ORDER BY enterdate ASC\n",
    "LIMIT 2;\n",
    "\n",
    "-- Total patient prescriptions with antidiabetic drugs\n",
    "SELECT COUNT(DISTINCT patid) FROM drugissue DI \n",
    "INNER JOIN A_AntiDiabeticDrug_CodeLists ADC ON DI.prodcodeid = ADC.drug_code_id\n",
    "WHERE DI.issuedate <= '2015-12-31'\n",
    "LIMIT 2;"
   ]
  },
  {
   "cell_type": "markdown",
   "metadata": {},
   "source": [
    "2d. Patients must have at least 12 months of prior registration before their earliest event date (earliest prescription).\n",
    "\n",
    "So below we have a table with earliest prescription issue date for each patient on antidiabetic drugs, where patients also have AT LEAST a one year interval between first issue of metformin and registration date at GP clinic \n"
   ]
  },
  {
   "cell_type": "code",
   "execution_count": null,
   "metadata": {
    "vscode": {
     "languageId": "sql"
    }
   },
   "outputs": [],
   "source": [
    "%%sql \n",
    "-- Table with earliest prescription issue date \n",
    "-- for each patient on antidiabetic drugs\n",
    "WITH patid_ranked AS (\n",
    "        SELECT  DI.*, \n",
    "                ROW_NUMBER() OVER(PARTITION BY patid ORDER BY issuedate ASC) AS row_number,\n",
    "                ADC.*\n",
    "        FROM drugissue DI \n",
    "        INNER JOIN A_AntiDiabeticDrug_CodeLists ADC ON DI.prodcodeid = ADC.drug_code_id\n",
    "        WHERE DI.issuedate <= '2015-12-31'\n",
    "                    )\n",
    "SELECT P.regstartdate,R.issuedate,R.issuedate - P.regstartdate AS DIFF, R.issuedate - interval '1 year' AS IssueDateMinus1Year,R.* FROM patid_ranked R\n",
    "    INNER JOIN Patient P ON P.patid = R.patid\n",
    "    WHERE row_number = 1\n",
    "    AND P.regstartdate <= (R.issuedate - interval '1 year')\n",
    "    ORDER BY DIFF ASC\n",
    "    LIMIT 3;"
   ]
  },
  {
   "cell_type": "markdown",
   "metadata": {},
   "source": [
    "------\n",
    "\n",
    "#### Part 3. Counts based on three criteria:\n",
    "1) The total number of patients in CPRD Aurum with an incident medical\n",
    "diagnosis of Type 2 diabetes mellitus recorded in during 01/01/2004 - 31/12/2015 OR\n",
    "2) Incident prescription of anti-diabetic medication (note-provided in one code list) documented during\n",
    "01/01/2004 - 31/12/2015 AND\n",
    "3) Have a test record for HbA1c recorded in CPRD Aurum (note - test value not assessed)\n",
    "\n",
    "First and second criteria have already been previously covered; here we focus on the third criteria only.\n",
    "\n",
    "\n"
   ]
  },
  {
   "cell_type": "markdown",
   "metadata": {},
   "source": [
    "3a. Find all terms related to '%HbA1%' and insert into a new table called A_hba1_medcodes\n"
   ]
  },
  {
   "cell_type": "code",
   "execution_count": null,
   "metadata": {
    "vscode": {
     "languageId": "sql"
    }
   },
   "outputs": [],
   "source": [
    "%%sql \n",
    "--SELECT * FROM Observation LIMIT 10;\n",
    "--SELECT * FROM obstype ORDER BY 1; -- lookup table\n",
    "DROP TABLE IF EXISTS A_hba1_medcodes;\n",
    "SELECT * INTO A_hba1_medcodes FROM medicaldictionary\n",
    "WHERE term LIKE '%HbA1%';\n",
    "--View table values:\n",
    "SELECT * FROM A_hba1_medcodes LIMIT 2;\n"
   ]
  },
  {
   "cell_type": "markdown",
   "metadata": {},
   "source": [
    "3b. Finding all patients with HbA1C related observations, where the observation type is a 'value' and the value is populated (not a NULL value)\n",
    "\n",
    "<i>*Note, assumption made below, that 'value' obstype gives the test record</i>\n"
   ]
  },
  {
   "cell_type": "code",
   "execution_count": null,
   "metadata": {
    "vscode": {
     "languageId": "sql"
    }
   },
   "outputs": [],
   "source": [
    "%%sql\n",
    "\n",
    "-- if we want to see all the distinct observation types \n",
    "SELECT DISTINCT obs.obstypeid FROM Observation obs\n",
    "INNER JOIN obstype ot ON ot.obstypeid = obs.obstypeid\n",
    "WHERE obs.medcodeid IN (SELECT medcodeid FROM A_hba1_medcodes)\n",
    "LIMIT 2;\n",
    "\n",
    "--checking what different ids correspond to\n",
    "SELECT * FROM numunit;\n",
    "\n",
    "--Joining tables to see observations for patients where \n",
    "--type of observation is a 'value' type, not null, \n",
    "-- and related to 'hba1c' term in dictionary \n",
    "SELECT obs.*, ot.*, md.* FROM Observation obs\n",
    "INNER JOIN obstype ot ON ot.obstypeid = obs.obstypeid\n",
    "INNER JOIN medicaldictionary md ON md.medcodeid = obs.medcodeid\n",
    "WHERE obs.medcodeid IN (SELECT medcodeid FROM A_hba1_medcodes)\n",
    "AND ot.obstypeid = 10 -- value\n",
    "AND obs.value IS NOT NULL\n",
    "LIMIT 2;"
   ]
  },
  {
   "cell_type": "markdown",
   "metadata": {},
   "source": [
    "3c. We can also now count the distinct number of patients:"
   ]
  },
  {
   "cell_type": "code",
   "execution_count": null,
   "metadata": {
    "vscode": {
     "languageId": "sql"
    }
   },
   "outputs": [],
   "source": [
    "%%sql\n",
    "--count distinct patients:\n",
    "SELECT COUNT(DISTINCT obs.patid) FROM Observation obs\n",
    "INNER JOIN obstype ot ON ot.obstypeid = obs.obstypeid\n",
    "INNER JOIN medicaldictionary md ON md.medcodeid = obs.medcodeid\n",
    "WHERE obs.medcodeid IN (SELECT medcodeid FROM A_hba1_medcodes)\n",
    "AND ot.obstypeid = 10 -- value\n",
    "AND obs.value IS NOT NULL\n",
    "LIMIT 2;\n"
   ]
  },
  {
   "cell_type": "markdown",
   "metadata": {
    "vscode": {
     "languageId": "sql"
    }
   },
   "source": [
    "------\n",
    "\n",
    "#### Drop tables created in this notebook:\n"
   ]
  },
  {
   "cell_type": "code",
   "execution_count": null,
   "metadata": {
    "vscode": {
     "languageId": "sql"
    }
   },
   "outputs": [],
   "source": [
    "%%sql\n",
    "DROP TABLE IF EXISTS a_antidiabeticdrug_codelist_name;\n",
    "DROP TABLE IF EXISTS a_antidiabeticdrug_codelists;\n",
    "DROP TABLE IF EXISTS a_metforminpatients;\n",
    "DROP TABLE IF EXISTS a_metforminprodid;\n",
    "DROP TABLE IF EXISTS a_type2diabetes_codelists;\n",
    "DROP TABLE IF EXISTS a_hba1_medcodes;\n",
    "DROP FUNCTION IF EXISTS a_loaddata;"
   ]
  }
 ],
 "metadata": {
  "kernelspec": {
   "display_name": "py38_default",
   "language": "python",
   "name": "python3"
  },
  "language_info": {
   "codemirror_mode": {
    "name": "ipython",
    "version": 3
   },
   "file_extension": ".py",
   "mimetype": "text/x-python",
   "name": "python",
   "nbconvert_exporter": "python",
   "pygments_lexer": "ipython3",
   "version": "3.8.16"
  },
  "orig_nbformat": 4
 },
 "nbformat": 4,
 "nbformat_minor": 2
}
