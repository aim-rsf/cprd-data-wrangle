{
 "cells": [
  {
   "cell_type": "markdown",
   "metadata": {},
   "source": [
    "# Summary statistics for CPRD Aurum Sample (Synthetic) Dataset"
   ]
  },
  {
   "cell_type": "markdown",
   "metadata": {},
   "source": [
    "The summary statistics created in this notebook follow the structure of those within the ['Release Notes: CPRD Aurum Sample Dataset October 2021'](https://www.cprd.com/sites/default/files/2022-02/CPRD%20Aurum%20Sample%20Dataset%20Release%20Notes.pdf) PDF. \n",
    "\n",
    "This notebook aims to replicate the numbers that CPRD provides using SQL commands, as an introduction to interacting with this dataset and the tables with SQL.\n",
    "\n",
    "This notebook assumes you have created a SQL database with the CPRD tables within. See code Step1A, Step1B and Step1C in `code-for-aurum` to see how the raw text files were transformed into tables within a SQL database.\n",
    "\n",
    "*We have not yet matched all the answers in the data specification - please let us know if you spot why!*\n"
   ]
  },
  {
   "cell_type": "markdown",
   "metadata": {},
   "source": [
    "----\n",
    "Preliminary setup code:"
   ]
  },
  {
   "cell_type": "code",
   "execution_count": 1,
   "metadata": {},
   "outputs": [],
   "source": [
    "# NOTEBOOK SET UP (1) - ask for credentials and db info from user\n",
    "import getpass\n",
    "my_username = input('Your username: ')\n",
    "my_password = getpass.getpass(prompt='Your password: ', stream=None)\n",
    "this_host = input('Host name: ')\n",
    "this_db = input('Database name: ')\n",
    "\n",
    "# NOTEBOOK SET UP (2) - load Jupyter magic functions & connect to db (assumes db & tables already created)\n",
    "%load_ext sql\n",
    "%sql postgresql+psycopg2://{my_username}:{my_password}@{this_host}/{this_db}"
   ]
  },
  {
   "cell_type": "markdown",
   "metadata": {},
   "source": [
    "### Total number of acceptable patients (including transferred out and deceased patients)\n",
    "Permanent registrations only. The ‘acceptable’ flag refers to a research quality threshold based on CPRD metrics."
   ]
  },
  {
   "cell_type": "code",
   "execution_count": null,
   "metadata": {
    "vscode": {
     "languageId": "sql"
    }
   },
   "outputs": [],
   "source": [
    "%%sql\n",
    "-- Count total acceptable patients\n",
    "SELECT COUNT(*)\n",
    "FROM patient\n",
    "WHERE acceptable = 1;"
   ]
  },
  {
   "cell_type": "markdown",
   "metadata": {},
   "source": [
    "### Current number of acceptable patients (i.e. registered at currently contributing practices, excluding transferred out deceased patients)"
   ]
  },
  {
   "cell_type": "code",
   "execution_count": null,
   "metadata": {
    "vscode": {
     "languageId": "sql"
    }
   },
   "outputs": [],
   "source": [
    "%%sql\n",
    "SELECT COUNT(*)\n",
    "FROM patient\n",
    "WHERE acceptable = 1 \n",
    "AND cprd_ddate IS NULL  -- The data spec suggests to use cprd_ddate instead of emis_ddate \n",
    "AND regenddate IS NULL;  -- regenddate is null means no date of registration ending "
   ]
  },
  {
   "cell_type": "markdown",
   "metadata": {},
   "source": [
    "### Percentage of UK population coverage (current patients only)\n",
    "Based on latest UK population estimates from the Office of National Statistics.\n"
   ]
  },
  {
   "cell_type": "code",
   "execution_count": null,
   "metadata": {
    "vscode": {
     "languageId": "sql"
    }
   },
   "outputs": [],
   "source": [
    "%%sql\n",
    "SELECT COUNT(*)/667968.00 as percent_coverage\n",
    "FROM patient\n",
    "WHERE acceptable = 1\n",
    "AND cprd_ddate IS NULL\n",
    "AND regenddate IS NULL;"
   ]
  },
  {
   "cell_type": "markdown",
   "metadata": {},
   "source": [
    "### Available follow-up time in years since 1st January 1995 (all patients including transferred out and deceased):\n",
    "Follow-up time stated here does not incorporate the up-to-standard (UTS) date and the database includes records pre-dating the 1st of January 1995\n",
    "\n",
    "*In this section, we don't quite match the answers in the release note!*\n"
   ]
  },
  {
   "cell_type": "code",
   "execution_count": null,
   "metadata": {
    "vscode": {
     "languageId": "sql"
    }
   },
   "outputs": [],
   "source": [
    "%%sql\n",
    "-- Defining follow up time as difference between enddate and startdate\n",
    "SELECT regenddate,\n",
    "regstartdate,\n",
    "regenddate-regstartdate AS followup_days,(regenddate-regstartdate)/365.0 AS followup_years\n",
    "FROM Patient\n",
    "WHERE regenddate IS NOT NULL\n",
    "LIMIT 2;"
   ]
  },
  {
   "cell_type": "code",
   "execution_count": null,
   "metadata": {
    "vscode": {
     "languageId": "sql"
    }
   },
   "outputs": [],
   "source": [
    "%%sql\n",
    "-- AVERAGE for all patients\n",
    "SELECT AVG(\n",
    "    (\n",
    "    CASE WHEN regenddate IS NULL \n",
    "    THEN '2021-10-01' ELSE regenddate END -- if patient had no regenddate we assume the enddate is the date of cprd publication\n",
    "    - \n",
    "    CASE WHEN regstartdate < '1995-01-01' -- we want to include all patients, but if regstartdate is before 1995-01-01, we only count from this date\n",
    "    THEN '1995-01-01' ELSE regstartdate END\n",
    "    )/365.0\n",
    "    )\n",
    "FROM Patient;\n"
   ]
  },
  {
   "cell_type": "code",
   "execution_count": null,
   "metadata": {
    "vscode": {
     "languageId": "sql"
    }
   },
   "outputs": [],
   "source": [
    "%%sql\n",
    "-- MEDIAN for all patients\n",
    "WITH cte AS (\n",
    "    SELECT \n",
    "    (CASE WHEN regenddate IS NULL \n",
    "    THEN '2021-10-01' ELSE regenddate END \n",
    "    - \n",
    "    CASE WHEN regstartdate < '1995-01-01'\n",
    "    THEN '1995-01-01' ELSE regstartdate END\n",
    "    )/365.0 AS followup_years\n",
    "    FROM Patient\n",
    "    )\n",
    "    --select * from cte  \n",
    "    SELECT percentile_disc(0.25) WITHIN group (ORDER BY followup_years) FROM cte\n",
    "    UNION ALL\n",
    "    SELECT percentile_disc(0.5) WITHIN group (ORDER BY  followup_years) FROM cte\n",
    "    UNION ALL \n",
    "    SELECT percentile_disc(0.75) WITHIN group (ORDER BY  followup_years) FROM cte"
   ]
  },
  {
   "cell_type": "code",
   "execution_count": null,
   "metadata": {
    "vscode": {
     "languageId": "sql"
    }
   },
   "outputs": [],
   "source": [
    "%%sql\n",
    "---STDEV for all patients\n",
    "SELECT STDDEV(\n",
    "    (\n",
    "    CASE WHEN regenddate IS NULL \n",
    "    THEN '2021-10-01' ELSE regenddate END \n",
    "    - \n",
    "    CASE WHEN regstartdate < '1995-01-01' \n",
    "    THEN '1995-01-01' ELSE regstartdate END\n",
    "    )/365.0\n",
    "    )\n",
    "FROM Patient;"
   ]
  },
  {
   "cell_type": "code",
   "execution_count": null,
   "metadata": {
    "vscode": {
     "languageId": "sql"
    }
   },
   "outputs": [],
   "source": [
    "%%sql\n",
    "-- AVERAGE for current patients\n",
    "SELECT AVG(\n",
    "    (\n",
    "    CASE WHEN regenddate IS NULL \n",
    "    THEN '2021-10-01' ELSE regenddate END \n",
    "    - \n",
    "    CASE WHEN regstartdate < '1995-01-01'\n",
    "    THEN '1995-01-01' ELSE regstartdate END\n",
    "    )/365.0\n",
    "    )\n",
    "FROM Patient\n",
    "WHERE regenddate IS NULL\n",
    "AND cprd_ddate IS NULL;"
   ]
  },
  {
   "cell_type": "code",
   "execution_count": null,
   "metadata": {
    "vscode": {
     "languageId": "sql"
    }
   },
   "outputs": [],
   "source": [
    "%%sql\n",
    "-- MEDIAN for all patients\n",
    "WITH cte AS (\n",
    "    SELECT \n",
    "    (CASE WHEN regenddate IS NULL \n",
    "    THEN '2021-10-01' ELSE regenddate END \n",
    "    - \n",
    "    CASE WHEN regstartdate < '1995-01-01'\n",
    "    THEN '1995-01-01' ELSE regstartdate END\n",
    "    )/365.0 AS followup_years\n",
    "    FROM Patient\n",
    "    WHERE regenddate IS NULL\n",
    "    AND cprd_ddate IS NULL\n",
    "    )\n",
    "    --select * from cte  \n",
    "    SELECT percentile_disc(0.25) WITHIN group (ORDER BY followup_years) FROM cte\n",
    "    UNION ALL\n",
    "    SELECT percentile_disc(0.5) WITHIN group (ORDER BY  followup_years) FROM cte\n",
    "    UNION ALL \n",
    "    SELECT percentile_disc(0.75) WITHIN group (ORDER BY  followup_years) FROM cte\n"
   ]
  },
  {
   "cell_type": "code",
   "execution_count": null,
   "metadata": {
    "vscode": {
     "languageId": "sql"
    }
   },
   "outputs": [],
   "source": [
    "%%sql\n",
    "-- STDEV for current patients \n",
    "SELECT STDDEV(\n",
    "    (\n",
    "    CASE WHEN regenddate IS NULL \n",
    "    THEN '2021-10-01' ELSE regenddate END \n",
    "    - \n",
    "    CASE WHEN regstartdate < '1995-01-01'\n",
    "    THEN '1995-01-01' ELSE regstartdate END\n",
    "    )/365.0\n",
    "    )\n",
    "FROM Patient\n",
    "WHERE regenddate IS NULL\n",
    "AND cprd_ddate IS NULL;\n"
   ]
  },
  {
   "cell_type": "markdown",
   "metadata": {},
   "source": [
    "### Total number of practices (current and historic) included in the database"
   ]
  },
  {
   "cell_type": "code",
   "execution_count": null,
   "metadata": {
    "vscode": {
     "languageId": "sql"
    }
   },
   "outputs": [],
   "source": [
    "%%sql\n",
    "SELECT COUNT(*) FROM practice;"
   ]
  },
  {
   "cell_type": "code",
   "execution_count": null,
   "metadata": {
    "vscode": {
     "languageId": "sql"
    }
   },
   "outputs": [],
   "source": [
    "%%sql\n",
    "-- Total number of distinct practices \n",
    "SELECT COUNT(DISTINCT practice) FROM practice;"
   ]
  },
  {
   "cell_type": "code",
   "execution_count": null,
   "metadata": {
    "vscode": {
     "languageId": "sql"
    }
   },
   "outputs": [],
   "source": [
    "%%sql\n",
    "SELECT * FROM practice;"
   ]
  },
  {
   "cell_type": "markdown",
   "metadata": {},
   "source": [
    "### Currently contributing practices\n",
    "Currently contributing practices are those contributing data to CPRD within 120 days of the database build \n",
    "being created. Practices that no longer contribute data to CPRD are classed as not currently contributing \n",
    "practices. The definition of currently contributing practices has been altered from 60 to 120 days to allow for the \n",
    "change to a quarterly release schedule planned up to March 2024\n",
    "\n",
    "*This section onwards, we don't quite match the answers in the release note!*\n"
   ]
  },
  {
   "cell_type": "code",
   "execution_count": null,
   "metadata": {
    "vscode": {
     "languageId": "sql"
    }
   },
   "outputs": [],
   "source": [
    "%%sql\n",
    "-- Last collection date (lcd) has to be within 120 days of database build release (Oct 2021 in this case)\n",
    "SELECT *, ('2021-10-01'-lcd) AS \"Collection Date & Release date diff\" FROM practice WHERE ('2021-10-01'-lcd) < 120 -- you wont see any results as all practices fall outside this range"
   ]
  },
  {
   "cell_type": "markdown",
   "metadata": {},
   "source": [
    "### Percentage coverage of UK general practices (currently contributing practices only)\n",
    "Expressed as a percentage of all practices currently contributing to CPRD Aurum\n",
    "\n",
    "> Not applicable, as above query returns no results"
   ]
  },
  {
   "cell_type": "markdown",
   "metadata": {},
   "source": [
    "\n",
    "### Regional distribution of currently contributing practices"
   ]
  },
  {
   "cell_type": "code",
   "execution_count": null,
   "metadata": {
    "vscode": {
     "languageId": "sql"
    }
   },
   "outputs": [],
   "source": [
    "%%sql\n",
    "-- Regional distribution of currently contributing practices\n",
    "SELECT re.description AS Region, COUNT(pr.pracid) AS TotalPractices \n",
    "FROM practice PR\n",
    "INNER JOIN region re \n",
    "ON re.regionid = pr.region\n",
    "GROUP BY pr.region, re.description"
   ]
  },
  {
   "cell_type": "code",
   "execution_count": null,
   "metadata": {
    "vscode": {
     "languageId": "sql"
    }
   },
   "outputs": [],
   "source": []
  }
 ],
 "metadata": {
  "kernelspec": {
   "display_name": "py38_default",
   "language": "python",
   "name": "python3"
  },
  "language_info": {
   "codemirror_mode": {
    "name": "ipython",
    "version": 3
   },
   "file_extension": ".py",
   "mimetype": "text/x-python",
   "name": "python",
   "nbconvert_exporter": "python",
   "pygments_lexer": "ipython3",
   "version": "3.8.16"
  },
  "orig_nbformat": 4
 },
 "nbformat": 4,
 "nbformat_minor": 2
}
